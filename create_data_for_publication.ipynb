{
 "cells": [
  {
   "cell_type": "code",
   "execution_count": 3,
   "metadata": {},
   "outputs": [],
   "source": [
    "import numpy as np\n",
    "import pickle"
   ]
  },
  {
   "cell_type": "code",
   "execution_count": 4,
   "metadata": {},
   "outputs": [],
   "source": [
    "\n",
    "path = '/home/jens/Desktop/mnt/tarkus/Desktop/WILDS/paper_2022/competence_estimation/'\n",
    "\n",
    "\n",
    "\n",
    "\n",
    "\n",
    "#path = '/home/tarkus/Desktop/WILDS/paper_2022/competence_estimation/'\n",
    "\n",
    "\n",
    "with open(path+'results_after/results_true_false.pickle', 'rb') as handle:\n",
    "    results_true_false = pickle.load(handle)\n",
    "    \n",
    "with open(path+'results_after/results_scores_mini.pickle', 'rb') as handle:\n",
    "    results_scores = pickle.load(handle)"
   ]
  },
  {
   "cell_type": "code",
   "execution_count": 9,
   "metadata": {},
   "outputs": [
    {
     "name": "stdout",
     "output_type": "stream",
     "text": [
      "dict_keys(['max_logit', 'knn', 'vim', 'GMM', 'max_softmax', 'PCA', 'mahalanobis', 'energy_react', 'energy'])\n",
      "dict_keys(['SVIRO', 'DomainNet', 'TerraIncognita', 'OfficeHome', 'VLCS', 'PACS'])\n",
      "dict_keys(['ERM'])\n",
      "dict_keys(['max_logit', 'knn', 'vim', 'GMM', 'max_softmax', 'PCA', 'mahalanobis', 'energy_react', 'energy'])\n",
      "dict_keys(['SVIRO', 'DomainNet', 'TerraIncognita', 'OfficeHome', 'VLCS', 'PACS'])\n",
      "dict_keys(['ERM', 'SD', 'Mixup', 'SagNet', 'VREx', 'Fish', 'GroupDRO', 'VisionTransformer', 'SwinTransformer'])\n"
     ]
    }
   ],
   "source": [
    "print(results_scores.keys())\n",
    "print(results_scores['knn'].keys())\n",
    "print(results_scores['knn']['PACS'].keys())\n",
    "\n",
    "print(results_true_false.keys())\n",
    "print(results_true_false['knn'].keys())\n",
    "print(results_true_false['knn']['PACS'].keys())"
   ]
  },
  {
   "cell_type": "code",
   "execution_count": 22,
   "metadata": {},
   "outputs": [
    {
     "name": "stdout",
     "output_type": "stream",
     "text": [
      "dict_keys(['id_test', 'id_val', 'ood_test'])\n",
      "dict_keys(['id_test', 'id_val', 'ood_open', 'ood_test'])\n"
     ]
    }
   ],
   "source": [
    "print(results_true_false['knn']['PACS']['ERM'][1][0.0].keys())\n",
    "print(results_scores['knn']['PACS']['ERM'][0][0.0].keys())\n",
    "\n",
    "rename_conventions = {'max_logit': 'Logit', 'max_softmax': 'Softmax', 'vim': 'ViM', 'GMM': 'GMM', 'knn':'Deep-KNN', 'energy': 'Energy', 'energy_react': 'Energy-React', 'mahalanobis': 'Mahalanobis', 'PCA':'PCA'}"
   ]
  },
  {
   "cell_type": "code",
   "execution_count": 23,
   "metadata": {},
   "outputs": [],
   "source": [
    "results_scores_publication = {}\n",
    "results_true_false_publication = {}\n",
    "\n",
    "for score_fct in results_scores.keys():\n",
    "    results_scores_publication[rename_conventions[score_fct]] = {}\n",
    "    results_scores_publication[rename_conventions[score_fct]]['PACS'] = {}\n",
    "    results_scores_publication[rename_conventions[score_fct]]['PACS']['ERM'] = {}\n",
    "    \n",
    "    results_true_false_publication[rename_conventions[score_fct]] = {}\n",
    "    results_true_false_publication[rename_conventions[score_fct]]['PACS'] = {}\n",
    "    results_true_false_publication[rename_conventions[score_fct]]['PACS']['ERM'] = {}\n",
    "    for domain in range(4):\n",
    "        results_scores_publication[rename_conventions[score_fct]]['PACS']['ERM'][domain] = {}\n",
    "        results_true_false_publication[rename_conventions[score_fct]]['PACS']['ERM'][domain] = {}\n",
    "        \n",
    "        results_scores_publication[rename_conventions[score_fct]]['PACS']['ERM'][domain][0.0] = {}\n",
    "        results_true_false_publication[rename_conventions[score_fct]]['PACS']['ERM'][domain][0.0] = {}\n",
    "        for split in ['id_test', 'id_val', 'ood_test']:\n",
    "\n",
    "            results_scores_publication[rename_conventions[score_fct]]['PACS']['ERM'][domain][0.0][split] = {}\n",
    "            results_true_false_publication[rename_conventions[score_fct]]['PACS']['ERM'][domain][0.0][split] = {}\n",
    "            results_scores_publication[rename_conventions[score_fct]]['PACS']['ERM'][domain][0.0][split] = results_scores[score_fct]['PACS']['ERM'][domain][0.0][split]\n",
    "            results_true_false_publication[rename_conventions[score_fct]]['PACS']['ERM'][domain][0.0][split] = results_true_false[score_fct]['PACS']['ERM'][domain][0.0][split]\n",
    "\n"
   ]
  },
  {
   "cell_type": "code",
   "execution_count": 28,
   "metadata": {},
   "outputs": [
    {
     "name": "stdout",
     "output_type": "stream",
     "text": [
      "dict_keys(['Logit', 'Deep-KNN', 'ViM', 'GMM', 'Softmax', 'PCA', 'Mahalanobis', 'Energy-React', 'Energy'])\n"
     ]
    }
   ],
   "source": [
    "print(results_true_false_publication.keys())"
   ]
  },
  {
   "cell_type": "code",
   "execution_count": 30,
   "metadata": {},
   "outputs": [],
   "source": [
    "with open(f\"results/scores_publication.pickle\", 'wb') as handle:\n",
    "    pickle.dump(results_scores_publication, handle, protocol=pickle.HIGHEST_PROTOCOL)"
   ]
  },
  {
   "cell_type": "code",
   "execution_count": 32,
   "metadata": {},
   "outputs": [],
   "source": [
    "with open(f\"results/true_false_publication.pickle\", 'wb') as handle:\n",
    "    pickle.dump(results_true_false_publication, handle, protocol=pickle.HIGHEST_PROTOCOL)"
   ]
  },
  {
   "cell_type": "code",
   "execution_count": null,
   "metadata": {},
   "outputs": [],
   "source": []
  }
 ],
 "metadata": {
  "kernelspec": {
   "display_name": "base",
   "language": "python",
   "name": "python3"
  },
  "language_info": {
   "codemirror_mode": {
    "name": "ipython",
    "version": 3
   },
   "file_extension": ".py",
   "mimetype": "text/x-python",
   "name": "python",
   "nbconvert_exporter": "python",
   "pygments_lexer": "ipython3",
   "version": "3.10.10"
  },
  "orig_nbformat": 4
 },
 "nbformat": 4,
 "nbformat_minor": 2
}
